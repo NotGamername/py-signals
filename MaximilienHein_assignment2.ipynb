{
 "cells": [
  {
   "cell_type": "code",
   "execution_count": null,
   "metadata": {},
   "outputs": [],
   "source": [
    "import numpy as np\n",
    "import soundfile as sf\n",
    "from IPython.display import Audio\n",
    "import matplotlib.pyplot as plt\n",
    "%matplotlib inline"
   ]
  },
  {
   "cell_type": "markdown",
   "metadata": {},
   "source": [
    "# PART 1\n",
    "\n",
    "-  Fill the skeleton functions below with the correct code\n",
    "-  Find the math functions for the square, triangular and sawtooth waves on the assignment pdf\n",
    "\n",
    "\n",
    "### NOTE:\n",
    "When selecting odd overtones make sure we process a correct amount of odd overtones corresponding to 'number_overtones' instead of stopping the function at the overtone count equal to 'number_overtones'. \n",
    "\n",
    "E.g. if we want 3 odd overtones, we need to stop the loop at overtone 7 (f0 + f3 + f5 + f7 ), Not at overtone 3 ( f0 + f3 )."
   ]
  },
  {
   "cell_type": "code",
   "execution_count": null,
   "metadata": {},
   "outputs": [],
   "source": [
    "def sinewave(fs,duration,f0,phase):\n",
    "    \n",
    "    time_vector = np.arange(0,duration,1/fs)\n",
    "\n",
    "    signal = np.sin(2 * np.pi * f0 * time_vector + phase)\n",
    "    \n",
    "    return time_vector, signal"
   ]
  },
  {
   "cell_type": "code",
   "execution_count": null,
   "metadata": {},
   "outputs": [],
   "source": [
    "def cosinewave(fs,duration,f0,phase):\n",
    "    \n",
    "    time_vector = np.arange(0,duration,1/fs)\n",
    "\n",
    "    signal = np.sin(2 * np.pi * f0 * time_vector + phase + (np.pi/2))\n",
    "\n",
    "    return time_vector, signal"
   ]
  },
  {
   "cell_type": "code",
   "execution_count": null,
   "metadata": {},
   "outputs": [],
   "source": [
    "def squarewave(fs,duration,f0,number_overtones,phase):\n",
    "    \n",
    "    time_vector = np.arange(0,duration,1/fs)\n",
    "    \n",
    "    signal = np.sin(2 * np.pi * f0 * time_vector + phase)\n",
    "    \n",
    "    for k in range(2,((2*number_overtones)+3)):\n",
    "        if k % 2 == 0: continue\n",
    "        #elif k % 2 != 0: print('This is overtone number '+str(int((k-1)/2))+': k =',k)\n",
    "        #print('Amplitdue of overtone number '+str(int((k-1)/2))+' = '+str(int((((k+1)/2)*f0)))+' is '+str(1/k))\n",
    "        signal += (1/k) * np.sin(k * 2 * np.pi * f0 * time_vector + phase)\n",
    "        \n",
    "    return time_vector, signal"
   ]
  },
  {
   "cell_type": "code",
   "execution_count": null,
   "metadata": {},
   "outputs": [],
   "source": [
    "def triangularwave(fs,duration,f0,number_overtones,phase):\n",
    "\n",
    "    time_vector = np.arange(0,duration,1/fs)\n",
    "    \n",
    "    signal = np.sin(2 * np.pi * f0 * time_vector + phase)\n",
    "    \n",
    "    for k in range(2,((2*number_overtones)+3)):\n",
    "        if k % 2 == 0: continue\n",
    "        #elif k % 2 != 0: print('This is overtone number '+str(int((k-1)/2))+': k =',k)\n",
    "        \n",
    "        signal += ((-1)**((k-1)/2)) * (1/(k**2)) * np.sin(k * 2 * np.pi * f0 * time_vector + phase)\n",
    "\n",
    "    return time_vector, signal "
   ]
  },
  {
   "cell_type": "code",
   "execution_count": null,
   "metadata": {},
   "outputs": [],
   "source": [
    "def sawtoothwave(fs,duration,f0,number_overtones,phase):\n",
    "    \n",
    "    time_vector = np.arange(0,duration,1/fs)\n",
    "    \n",
    "    saw = np.sin(2 * np.pi * f0 * time_vector + phase)\n",
    "    \n",
    "    for k in range(2,((2*number_overtones)+3)): \n",
    "        saw += (1/k) * np.sin(k * 2 * np.pi * f0 * time_vector + phase)\n",
    "        #print('This is overtone number '+str(int((k-1)))+': k =',k)\n",
    "    \n",
    "    signal = -1 * saw\n",
    "\n",
    "    return time_vector, signal"
   ]
  },
  {
   "cell_type": "markdown",
   "metadata": {},
   "source": [
    "# PART 2\n",
    "\n",
    "-  Use the functions above to plot and display audio for each waveform\n",
    "-  Remember to plot against time (use the time_vector) and label the plot\n",
    "-  Use plt.xlim to diplay only 2 periods of the waveform\n",
    "    - Important: Do not hard code the xlim. If a different frequency is selected, the graph must also display two cycles."
   ]
  },
  {
   "cell_type": "code",
   "execution_count": null,
   "metadata": {},
   "outputs": [],
   "source": [
    "fs = 48000\n",
    "duration = 4\n",
    "f0 = 440\n",
    "phase = 0\n",
    "\n",
    "tv_sine,sine = sinewave(fs,duration,f0,phase)\n",
    "\n",
    "plt.plot(tv_sine,sine)\n",
    "plt.xlim(0,2/f0)\n",
    "    \n",
    "display(Audio(sine,rate=fs))"
   ]
  },
  {
   "cell_type": "code",
   "execution_count": null,
   "metadata": {},
   "outputs": [],
   "source": [
    "tv_cosine,cosine = cosinewave(fs,duration,f0,phase)\n",
    "\n",
    "plt.plot(tv_cosine,cosine)\n",
    "plt.xlim(0,2/f0)\n",
    "    \n",
    "display(Audio(cosine,rate=fs))"
   ]
  },
  {
   "cell_type": "code",
   "execution_count": null,
   "metadata": {},
   "outputs": [],
   "source": [
    "number_overtones = 1000\n",
    "\n",
    "tv_square,square = squarewave(fs,duration,f0,number_overtones,phase)\n",
    "\n",
    "plt.plot(tv_square,square)\n",
    "plt.xlim(0,2/f0)\n",
    "    \n",
    "display(Audio(square,rate=fs))"
   ]
  },
  {
   "cell_type": "code",
   "execution_count": null,
   "metadata": {},
   "outputs": [],
   "source": [
    "tv_triangle,triangle = triangularwave(fs,duration,f0,number_overtones,phase)\n",
    "\n",
    "plt.plot(tv_triangle,triangle)\n",
    "plt.xlim(0,2/f0)\n",
    "    \n",
    "display(Audio(triangle,rate=fs))"
   ]
  },
  {
   "cell_type": "code",
   "execution_count": null,
   "metadata": {},
   "outputs": [],
   "source": [
    "tv_saw,sawtooth = sawtoothwave(fs,duration,f0,number_overtones,phase)\n",
    "\n",
    "plt.plot(tv_saw,sawtooth)\n",
    "plt.xlim(0,2/f0)\n",
    "    \n",
    "display(Audio(sawtooth,rate=fs))"
   ]
  },
  {
   "cell_type": "markdown",
   "metadata": {},
   "source": [
    "# Part 3"
   ]
  },
  {
   "cell_type": "markdown",
   "metadata": {},
   "source": [
    "# Extra Credit - Noise Generator\n",
    "\n",
    "- Fill the function, plot and display"
   ]
  },
  {
   "cell_type": "code",
   "execution_count": null,
   "metadata": {},
   "outputs": [],
   "source": [
    "def noise_gen(fs,duration):\n",
    "    \n",
    "    time_vector = fs * duration\n",
    "    \n",
    "    signal = np.random.randn(time_vector)\n",
    "    \n",
    "    tv_array = np.zeros(time_vector)\n",
    "    \n",
    "    for i in range(time_vector):\n",
    "        tv_array[i] += i\n",
    "        \n",
    "    signal_norm = signal/np.max(np.abs(signal))\n",
    "    \n",
    "#     print(type(signal))\n",
    "#     print(type(tv_array))\n",
    "#     print(tv_array)\n",
    "    \n",
    "    return tv_array, signal_norm"
   ]
  },
  {
   "cell_type": "code",
   "execution_count": null,
   "metadata": {},
   "outputs": [],
   "source": [
    "tv_noise,noise = noise_gen(fs,duration)\n",
    "\n",
    "plt.plot(tv_noise,noise)\n",
    "plt.xlim(0,(fs * duration))\n",
    "    \n",
    "display(Audio(noise,rate=fs))"
   ]
  },
  {
   "cell_type": "markdown",
   "metadata": {},
   "source": [
    "# Extra Credit - Anti-Aliasing Filter"
   ]
  },
  {
   "cell_type": "code",
   "execution_count": null,
   "metadata": {},
   "outputs": [],
   "source": [
    "def squarewave_nonaliasing(fs,duration,f0,number_overtones,phase):\n",
    "    \n",
    "    time_vector = np.arange(0,duration,1/fs)\n",
    "    \n",
    "    signal = np.sin(2 * np.pi * f0 * time_vector + phase)\n",
    "        \n",
    "    for k in range(2,((2*number_overtones)+3)):\n",
    "        if k % 2 == 0: continue\n",
    "        \n",
    "        #This is the anti-aliasing conditional statement in the context of the square wave\n",
    "        elif (((k+1)/2) * f0) > (fs/2):\n",
    "            print('Aliasing would now begin!')\n",
    "            break\n",
    "        \n",
    "        elif k % 2 != 0:\n",
    "            print('This is overtone number '+str(int((k-1)/2))+': '+str((int((k+1)/2) * f0))+', with amplitude: '+str(1/k))\n",
    "            signal += (1/k) * np.sin(k * 2 * np.pi * f0 * time_vector + phase)\n",
    "        \n",
    "    return time_vector, signal"
   ]
  },
  {
   "cell_type": "code",
   "execution_count": null,
   "metadata": {},
   "outputs": [],
   "source": [
    "tv_alias_square,alias_square = squarewave_nonaliasing(fs,duration,f0,number_overtones,phase)\n",
    "\n",
    "plt.plot(tv_alias_square,alias_square)\n",
    "plt.xlim(0,2/f0)\n",
    "    \n",
    "display(Audio(alias_square,rate=fs))"
   ]
  },
  {
   "cell_type": "code",
   "execution_count": null,
   "metadata": {},
   "outputs": [],
   "source": [
    "def triangularwave_nonaliasing(fs,duration,f0,number_overtones,phase):\n",
    "\n",
    "    time_vector = np.arange(0,duration,1/fs)\n",
    "    \n",
    "    signal = np.sin(2 * np.pi * f0 * time_vector + phase)\n",
    "    \n",
    "    for k in range(2,((2*number_overtones)+3)):\n",
    "        if k % 2 == 0: continue\n",
    "        \n",
    "        #This is the anti-aliasing conditional statement in the context of the triangle wave\n",
    "        elif (((k+1)/2) * f0) > (fs/2):\n",
    "            print('Aliasing would now begin!')\n",
    "            break\n",
    "            \n",
    "        elif k % 2 != 0: print('This is overtone number '+str(int((k-1)/2))+': '+str((int((k+1)/2) * f0))+', with amplitude: '+str(1/k))\n",
    "        signal += ((-1)**((k-1)/2)) * (1/(k**2)) * np.sin(k * 2 * np.pi * f0 * time_vector + phase)\n",
    "\n",
    "    return time_vector, signal "
   ]
  },
  {
   "cell_type": "code",
   "execution_count": null,
   "metadata": {},
   "outputs": [],
   "source": [
    "tv_alias_tri,alias_tri = triangularwave_nonaliasing(fs,duration,f0,number_overtones,phase)\n",
    "\n",
    "plt.plot(tv_alias_tri,alias_tri)\n",
    "plt.xlim(0,2/f0)\n",
    "    \n",
    "display(Audio(alias_tri,rate=fs))"
   ]
  },
  {
   "cell_type": "code",
   "execution_count": null,
   "metadata": {},
   "outputs": [],
   "source": [
    "def sawtoothwave_nonaliasing(fs,duration,f0,number_overtones,phase):\n",
    "    \n",
    "    time_vector = np.arange(0,duration,1/fs)\n",
    "    \n",
    "    saw = np.sin(2 * np.pi * f0 * time_vector + phase)\n",
    "    \n",
    "    for k in range(2,((2*number_overtones)+3)):  \n",
    "        #This is the anti-aliasing conditional statement in the context of the square wave\n",
    "        if (((k+1)/2) * f0) > (fs/2):\n",
    "            print('Aliasing would now begin!')\n",
    "            break\n",
    "            \n",
    "        print('This is overtone number '+str(k-1)+': '+str((k) * f0)+', with amplitude: '+str(1/k))\n",
    "        saw += (1/k) * np.sin(k * 2 * np.pi * f0 * time_vector + phase)\n",
    "    \n",
    "    signal = -1 * saw\n",
    "\n",
    "    return time_vector, signal"
   ]
  },
  {
   "cell_type": "code",
   "execution_count": null,
   "metadata": {},
   "outputs": [],
   "source": [
    "tv_alias_saw,alias_saw = sawtoothwave_nonaliasing(fs,duration,f0,number_overtones,phase)\n",
    "\n",
    "plt.plot(tv_alias_saw,alias_saw)\n",
    "plt.xlim(0,2/f0)\n",
    "    \n",
    "display(Audio(alias_saw,rate=fs))"
   ]
  },
  {
   "cell_type": "markdown",
   "metadata": {},
   "source": [
    "## Unit Test (for graders -- do not edit or delete) "
   ]
  },
  {
   "cell_type": "code",
   "execution_count": null,
   "metadata": {},
   "outputs": [],
   "source": [
    "time_vector, sine_test = sinewave(4,1,1,0)\n",
    "assert np.allclose(sine_test, np.array([0, 1, 0, -1]))\n",
    "assert np.allclose(time_vector, np.array([0, 0.25, 0.5, 0.75] ))\n",
    "\n",
    "print('Sinewave OK!')"
   ]
  },
  {
   "cell_type": "code",
   "execution_count": null,
   "metadata": {},
   "outputs": [],
   "source": [
    "time_vector, cosine_test = cosinewave(4,1,1,0)\n",
    "assert np.allclose(cosine_test, np.array([1, 0, -1, 0]))\n",
    "assert np.allclose(time_vector, np.array([0, 0.25, 0.5, 0.75] ))\n",
    "\n",
    "print('Cosinewave OK!')"
   ]
  },
  {
   "cell_type": "code",
   "execution_count": null,
   "metadata": {},
   "outputs": [],
   "source": [
    "time_vector, squarewave_test = squarewave(4, 1, 1, 10, 0)\n",
    "squarewave_test = squarewave_test/np.max(np.abs(squarewave_test))\n",
    "assert np.allclose(squarewave_test, np.array([0, 1, 0, -1]))\n",
    "assert np.allclose(time_vector, np.array([0, 0.25, 0.5, 0.75] ))\n",
    "\n",
    "print('Squarewave OK!')"
   ]
  },
  {
   "cell_type": "code",
   "execution_count": null,
   "metadata": {},
   "outputs": [],
   "source": [
    "time_vector, triangularwave_test = triangularwave(4, 1, 1, 10, 0)\n",
    "triangularwave_test = triangularwave_test/np.max(np.abs(triangularwave_test))\n",
    "assert np.allclose(triangularwave_test, np.array([0, 1, 0, -1]))\n",
    "assert np.allclose(time_vector, np.array([0, 0.25, 0.5, 0.75] ))\n",
    "\n",
    "print('Triang OK!')"
   ]
  },
  {
   "cell_type": "code",
   "execution_count": null,
   "metadata": {},
   "outputs": [],
   "source": [
    "time_vector, sawtoothwave_test = sawtoothwave(4, 1, 1, 10, 0)\n",
    "sawtoothwave_test = sawtoothwave_test/np.max(np.abs(sawtoothwave_test))\n",
    "assert np.allclose(sawtoothwave_test, np.array([0, -1, 0, 1]))\n",
    "assert np.allclose(time_vector, np.array([0, 0.25, 0.5, 0.75] ))\n",
    "\n",
    "print('Sawtooth OK!')"
   ]
  }
 ],
 "metadata": {
  "kernelspec": {
   "display_name": "Python 3 (ipykernel)",
   "language": "python",
   "name": "python3"
  },
  "language_info": {
   "codemirror_mode": {
    "name": "ipython",
    "version": 3
   },
   "file_extension": ".py",
   "mimetype": "text/x-python",
   "name": "python",
   "nbconvert_exporter": "python",
   "pygments_lexer": "ipython3",
   "version": "3.8.8"
  }
 },
 "nbformat": 4,
 "nbformat_minor": 4
}
